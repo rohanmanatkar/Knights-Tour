{
 "cells": [
  {
   "cell_type": "code",
   "execution_count": 1,
   "metadata": {},
   "outputs": [
    {
     "name": "stdout",
     "output_type": "stream",
     "text": [
      "300 -100\n"
     ]
    }
   ],
   "source": [
    "def f(x = 100, y = 100):\n",
    "    return (x+y, x-y)\n",
    "x, y = f(y = 200, x = 100)\n",
    "print(x, y)"
   ]
  },
  {
   "cell_type": "code",
   "execution_count": 18,
   "metadata": {},
   "outputs": [
    {
     "name": "stdout",
     "output_type": "stream",
     "text": [
      "[[1 2 3]\n",
      " [0 1 2]\n",
      " [1 2 3]]\n"
     ]
    }
   ],
   "source": [
    "import numpy as np\n",
    "train_set = np.array([1,2,3])\n",
    "test_set = np.array([[0,1,2], [1,2,3]])\n",
    "#resulting_set = np.concatenate([train_set, test_set])\n",
    "#resulting_set = train_set.append(test_set)\n",
    "res_set = np.vstack([train_set, test_set])\n",
    "#print(resulting_set)\n",
    "print(res_set)"
   ]
  },
  {
   "cell_type": "code",
   "execution_count": 12,
   "metadata": {},
   "outputs": [
    {
     "name": "stdout",
     "output_type": "stream",
     "text": [
      "aaa\n",
      "bbb\n",
      "ccc\n",
      "ddd\n",
      "eee\n"
     ]
    }
   ],
   "source": [
    "import re\n",
    "str=\"\"\"Email_Address,Nickname,Group_Status,Join_Year\n",
    "aa@aaa.com,aa,Owner,2014\n",
    "bb@bbb.com,bb,Member,2015\n",
    "cc@ccc.com,cc,Member,2017\n",
    "dd@ddd.com,dd,Member,2016\n",
    "ee@eee.com,ee,Member,2020\n",
    "\"\"\"\n",
    "for i in re.finditer('([a-zA-Z]+)@([a-zA-Z]+).(com)',str):\n",
    "    print(i.group(2))\n",
    "    "
   ]
  },
  {
   "cell_type": "code",
   "execution_count": 59,
   "metadata": {
    "scrolled": false
   },
   "outputs": [
    {
     "name": "stdout",
     "output_type": "stream",
     "text": [
      "final: [[0, 7, 2], [3, 10, 5], [6, 1, 8], [9, 4, 11]]\n"
     ]
    }
   ],
   "source": [
    "import copy\n",
    "best_grid = []\n",
    "max_jump = 0\n",
    "def isValidMove(grid, x, y):\n",
    "    if x >= 4 or y >= 3 or x<0 or y<0 or grid[x][y] > -1 :\n",
    "        return False\n",
    "    return True\n",
    "\n",
    "def getValidMoves(grid, x, y, validMoves):\n",
    "    return [ (i,j) for i,j in validMoves if isValidMove(grid, x+i, y+j) ]\n",
    "\n",
    "def movesSortedbyNumNextValidMoves(grid, x, y, legalMoves):\n",
    "    #print(\"Entering func\")\n",
    "    nextValidMoves = [ (i,j) for i,j in getValidMoves(grid,x,y,legalMoves) ]\n",
    "    #print(\"nextValidMoves\")\n",
    "    #print(\"nextValidMoves:\", nextValidMoves)\n",
    "    # find the number of valid moves for each of the possible valid mode from x,y\n",
    "    withNumNextValidMoves = [ (len(getValidMoves(grid,x+i,y+j,legalMoves)),i,j) for i,j in nextValidMoves]\n",
    "    #print(\"with next valid:\",withNumNextValidMoves)\n",
    "    # sort based on the number so that the one with smallest number of valid moves comes on the top\n",
    "    return [ (t[1],t[2]) for t in sorted(withNumNextValidMoves) ]\n",
    "\n",
    "def _solveKnightsTour(grid, x, y, num, legalMoves):\n",
    "    global max_jump\n",
    "    global best_grid\n",
    "    if num == 12:\n",
    "        return True\n",
    "    for i,j in getValidMoves(grid,x,y,legalMoves):\n",
    "        xN,yN = x+i,y+j\n",
    "        if isValidMove(grid,xN,yN):\n",
    "            grid[xN][yN] = num\n",
    "            if(num > max_jump):\n",
    "                max_jump = num\n",
    "                best_grid = copy.deepcopy(grid)\n",
    "            if _solveKnightsTour(grid, xN, yN, num+1, legalMoves):\n",
    "                return True\n",
    "            grid[xN][yN] = -1\n",
    "    return False\n",
    "\n",
    "def solveKnightsTour(startX=2, startY=0):\n",
    "    global best_grid\n",
    "    legalMoves = [(2,1),(2,-1),(-2,1),(-2,-1),(1,2),(1,-2),(-1,2),(-1,-2)]\n",
    "    #Initializing the grid\n",
    "    grid = [ x[:] for x in [[-1]*3]*4 ]\n",
    "    grid[startX][startY] = 0\n",
    "    if _solveKnightsTour(grid,startX,startY,1,legalMoves):\n",
    "        print(\"final:\", best_grid)\n",
    "        \n",
    "    else:\n",
    "        print(best_grid)\n",
    "\n",
    "def jumpy_knight(board):\n",
    "    for i in range(len(board)):\n",
    "        for j in range(len(board[i])):\n",
    "            if(board[i][j] == 0):\n",
    "                solveKnightsTour(i, j)\n",
    "#solveKnightsTour(8)\n",
    "test_board_1 = [[0],[ ],[ ],\n",
    " \t\t\t\t[ ],[ ],[ ],\n",
    "\t\t\t\t[ ],[ ],[ ],\n",
    "\t\t\t\t[ ],[ ],[ ]]\n",
    "jumpy_knight(test_board_1)"
   ]
  },
  {
   "cell_type": "code",
   "execution_count": null,
   "metadata": {},
   "outputs": [],
   "source": []
  }
 ],
 "metadata": {
  "kernelspec": {
   "display_name": "Python 3",
   "language": "python",
   "name": "python3"
  },
  "language_info": {
   "codemirror_mode": {
    "name": "ipython",
    "version": 3
   },
   "file_extension": ".py",
   "mimetype": "text/x-python",
   "name": "python",
   "nbconvert_exporter": "python",
   "pygments_lexer": "ipython3",
   "version": "3.7.3"
  }
 },
 "nbformat": 4,
 "nbformat_minor": 2
}
